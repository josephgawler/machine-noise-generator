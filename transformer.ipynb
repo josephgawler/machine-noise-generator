{
 "cells": [
  {
   "cell_type": "code",
   "execution_count": null,
   "metadata": {},
   "outputs": [
    {
     "name": "stderr",
     "output_type": "stream",
     "text": [
      "Exception ignored in: <bound method IPythonKernel._clean_thread_parent_frames of <ipykernel.ipkernel.IPythonKernel object at 0x7f9171216220>>\n",
      "Traceback (most recent call last):\n",
      "  File \"/Users/kingnutmegs/Documents/GitHub/machine-noise-generator/.venv/lib/python3.8/site-packages/ipykernel/ipkernel.py\", line 775, in _clean_thread_parent_frames\n",
      "    def _clean_thread_parent_frames(\n",
      "KeyboardInterrupt: \n",
      "/Users/kingnutmegs/Documents/GitHub/machine-noise-generator/.venv/lib/python3.8/site-packages/tqdm/auto.py:21: TqdmWarning: IProgress not found. Please update jupyter and ipywidgets. See https://ipywidgets.readthedocs.io/en/stable/user_install.html\n",
      "  from .autonotebook import tqdm as notebook_tqdm\n"
     ]
    },
    {
     "ename": "",
     "evalue": "",
     "output_type": "error",
     "traceback": [
      "\u001b[1;31mThe Kernel crashed while executing code in the the current cell or a previous cell. Please review the code in the cell(s) to identify a possible cause of the failure. Click <a href='https://aka.ms/vscodeJupyterKernelCrash'>here</a> for more info. View Jupyter <a href='command:jupyter.viewOutput'>log</a> for further details."
     ]
    }
   ],
   "source": [
    "import torch\n",
    "import torchaudio\n",
    "import librosa\n",
    "import os\n",
    "import numpy as np\n",
    "from torch.utils.data import Dataset, DataLoader\n",
    "from transformers import HubertForSequenceClassification, Wav2Vec2Processor, Trainer, TrainingArguments\n",
    "\n",
    "# Define dataset class\n",
    "class MachineSoundDataset(Dataset):\n",
    "    def __init__(self, data_dir, processor, labels):\n",
    "        self.data_dir = data_dir\n",
    "        self.processor = processor\n",
    "        self.labels = labels\n",
    "        self.files = []\n",
    "        for label in labels:\n",
    "            class_path = os.path.join(data_dir, label)\n",
    "            for file in os.listdir(class_path):\n",
    "                if file.endswith(\".wav\"):\n",
    "                    self.files.append((os.path.join(class_path, file), label))\n",
    "\n",
    "    def __len__(self):\n",
    "        return len(self.files)\n",
    "\n",
    "    def __getitem__(self, idx):\n",
    "        file_path, label = self.files[idx]\n",
    "        \n",
    "        # Load audio\n",
    "        waveform, sr = librosa.load(file_path, sr=16000)  # HuBERT expects 16kHz\n",
    "        input_values = self.processor(waveform, sampling_rate=16000, return_tensors=\"pt\").input_values[0]\n",
    "        \n",
    "        return {\"input_values\": input_values, \"labels\": torch.tensor(self.labels[label])}\n",
    "\n",
    "# Define paths\n",
    "DATA_DIR = \"data/trimmed_valve\"\n",
    "LABELS = {\"normal\": 0, \"abnormal\": 1}  # Binary classification labels\n",
    "\n",
    "# Load processor and model\n",
    "processor = Wav2Vec2Processor.from_pretrained(\"facebook/hubert-base-ls960\")\n",
    "model = HubertForSequenceClassification.from_pretrained(\"facebook/hubert-base-ls960\", num_labels=2)\n",
    "\n",
    "# Load dataset\n",
    "dataset = MachineSoundDataset(DATA_DIR, processor, LABELS)\n",
    "dataloader = DataLoader(dataset, batch_size=8, shuffle=True)\n",
    "\n",
    "# Training arguments\n",
    "training_args = TrainingArguments(\n",
    "    output_dir=\"./hubert_model\",\n",
    "    per_device_train_batch_size=8,\n",
    "    num_train_epochs=3,\n",
    "    logging_dir=\"./logs\",\n",
    "    evaluation_strategy=\"steps\",\n",
    "    save_strategy=\"epoch\",\n",
    "    logging_steps=10,\n",
    "    save_total_limit=2,\n",
    "    load_best_model_at_end=True\n",
    ")\n",
    "\n",
    "# Define trainer\n",
    "trainer = Trainer(\n",
    "    model=model,\n",
    "    args=training_args,\n",
    "    train_dataset=dataset\n",
    ")\n",
    "\n",
    "# Train the model\n",
    "trainer.train()\n",
    "\n",
    "# Save model\n",
    "model.save_pretrained(\"hubert_machine_sound\")\n",
    "processor.save_pretrained(\"hubert_machine_sound\")\n"
   ]
  }
 ],
 "metadata": {
  "kernelspec": {
   "display_name": ".venv",
   "language": "python",
   "name": "python3"
  },
  "language_info": {
   "codemirror_mode": {
    "name": "ipython",
    "version": 3
   },
   "file_extension": ".py",
   "mimetype": "text/x-python",
   "name": "python",
   "nbconvert_exporter": "python",
   "pygments_lexer": "ipython3",
   "version": "3.8.10"
  }
 },
 "nbformat": 4,
 "nbformat_minor": 2
}
